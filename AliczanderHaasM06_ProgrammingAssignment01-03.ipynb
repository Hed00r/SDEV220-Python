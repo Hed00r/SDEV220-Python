import datetime

todays_date = datetime.date.today()
file = open('today.txt', 'w')
file.write(todays_date.strftime('%Y-%m-%d'))
file.close()

file = open('today.txt', 'r')

